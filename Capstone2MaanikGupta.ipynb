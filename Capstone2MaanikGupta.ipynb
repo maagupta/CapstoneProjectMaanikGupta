{
 "cells": [
  {
   "cell_type": "code",
   "execution_count": 1,
   "metadata": {},
   "outputs": [],
   "source": [
    "#First I need to import everything\n",
    "import pandas as pd\n",
    "import numpy as np\n",
    "np.random.seed(0)\n",
    "import matplotlib.pyplot as plt\n",
    "from sklearn.model_selection import train_test_split, GridSearchCV\n",
    "from sklearn.metrics import accuracy_score, confusion_matrix, classification_report\n",
    "from sklearn.tree import DecisionTreeClassifier\n",
    "from sklearn.ensemble import BaggingClassifier, RandomForestClassifier"
   ]
  },
  {
   "cell_type": "code",
   "execution_count": 2,
   "metadata": {},
   "outputs": [
    {
     "data": {
      "text/html": [
       "<div>\n",
       "<style scoped>\n",
       "    .dataframe tbody tr th:only-of-type {\n",
       "        vertical-align: middle;\n",
       "    }\n",
       "\n",
       "    .dataframe tbody tr th {\n",
       "        vertical-align: top;\n",
       "    }\n",
       "\n",
       "    .dataframe thead th {\n",
       "        text-align: right;\n",
       "    }\n",
       "</style>\n",
       "<table border=\"1\" class=\"dataframe\">\n",
       "  <thead>\n",
       "    <tr style=\"text-align: right;\">\n",
       "      <th></th>\n",
       "      <th>no_of_adults</th>\n",
       "      <th>no_of_children</th>\n",
       "      <th>no_of_weekend_nights</th>\n",
       "      <th>no_of_week_nights</th>\n",
       "      <th>type_of_meal_plan</th>\n",
       "      <th>required_car_parking_space</th>\n",
       "      <th>room_type_reserved</th>\n",
       "      <th>lead_time</th>\n",
       "      <th>arrival_year</th>\n",
       "      <th>arrival_month</th>\n",
       "      <th>arrival_date</th>\n",
       "      <th>market_segment_type</th>\n",
       "      <th>repeated_guest</th>\n",
       "      <th>no_of_previous_cancellations</th>\n",
       "      <th>no_of_previous_bookings_not_canceled</th>\n",
       "      <th>avg_price_per_room</th>\n",
       "      <th>no_of_special_requests</th>\n",
       "      <th>booking_status</th>\n",
       "    </tr>\n",
       "    <tr>\n",
       "      <th>Booking_ID</th>\n",
       "      <th></th>\n",
       "      <th></th>\n",
       "      <th></th>\n",
       "      <th></th>\n",
       "      <th></th>\n",
       "      <th></th>\n",
       "      <th></th>\n",
       "      <th></th>\n",
       "      <th></th>\n",
       "      <th></th>\n",
       "      <th></th>\n",
       "      <th></th>\n",
       "      <th></th>\n",
       "      <th></th>\n",
       "      <th></th>\n",
       "      <th></th>\n",
       "      <th></th>\n",
       "      <th></th>\n",
       "    </tr>\n",
       "  </thead>\n",
       "  <tbody>\n",
       "    <tr>\n",
       "      <th>INN00001</th>\n",
       "      <td>2</td>\n",
       "      <td>0</td>\n",
       "      <td>1</td>\n",
       "      <td>2</td>\n",
       "      <td>Meal Plan 1</td>\n",
       "      <td>0</td>\n",
       "      <td>Room_Type 1</td>\n",
       "      <td>224</td>\n",
       "      <td>2017</td>\n",
       "      <td>10</td>\n",
       "      <td>2</td>\n",
       "      <td>Offline</td>\n",
       "      <td>0</td>\n",
       "      <td>0</td>\n",
       "      <td>0</td>\n",
       "      <td>65.00</td>\n",
       "      <td>0</td>\n",
       "      <td>Not_Canceled</td>\n",
       "    </tr>\n",
       "    <tr>\n",
       "      <th>INN00002</th>\n",
       "      <td>2</td>\n",
       "      <td>0</td>\n",
       "      <td>2</td>\n",
       "      <td>3</td>\n",
       "      <td>Not Selected</td>\n",
       "      <td>0</td>\n",
       "      <td>Room_Type 1</td>\n",
       "      <td>5</td>\n",
       "      <td>2018</td>\n",
       "      <td>11</td>\n",
       "      <td>6</td>\n",
       "      <td>Online</td>\n",
       "      <td>0</td>\n",
       "      <td>0</td>\n",
       "      <td>0</td>\n",
       "      <td>106.68</td>\n",
       "      <td>1</td>\n",
       "      <td>Not_Canceled</td>\n",
       "    </tr>\n",
       "    <tr>\n",
       "      <th>INN00003</th>\n",
       "      <td>1</td>\n",
       "      <td>0</td>\n",
       "      <td>2</td>\n",
       "      <td>1</td>\n",
       "      <td>Meal Plan 1</td>\n",
       "      <td>0</td>\n",
       "      <td>Room_Type 1</td>\n",
       "      <td>1</td>\n",
       "      <td>2018</td>\n",
       "      <td>2</td>\n",
       "      <td>28</td>\n",
       "      <td>Online</td>\n",
       "      <td>0</td>\n",
       "      <td>0</td>\n",
       "      <td>0</td>\n",
       "      <td>60.00</td>\n",
       "      <td>0</td>\n",
       "      <td>Canceled</td>\n",
       "    </tr>\n",
       "    <tr>\n",
       "      <th>INN00004</th>\n",
       "      <td>2</td>\n",
       "      <td>0</td>\n",
       "      <td>0</td>\n",
       "      <td>2</td>\n",
       "      <td>Meal Plan 1</td>\n",
       "      <td>0</td>\n",
       "      <td>Room_Type 1</td>\n",
       "      <td>211</td>\n",
       "      <td>2018</td>\n",
       "      <td>5</td>\n",
       "      <td>20</td>\n",
       "      <td>Online</td>\n",
       "      <td>0</td>\n",
       "      <td>0</td>\n",
       "      <td>0</td>\n",
       "      <td>100.00</td>\n",
       "      <td>0</td>\n",
       "      <td>Canceled</td>\n",
       "    </tr>\n",
       "    <tr>\n",
       "      <th>INN00005</th>\n",
       "      <td>2</td>\n",
       "      <td>0</td>\n",
       "      <td>1</td>\n",
       "      <td>1</td>\n",
       "      <td>Not Selected</td>\n",
       "      <td>0</td>\n",
       "      <td>Room_Type 1</td>\n",
       "      <td>48</td>\n",
       "      <td>2018</td>\n",
       "      <td>4</td>\n",
       "      <td>11</td>\n",
       "      <td>Online</td>\n",
       "      <td>0</td>\n",
       "      <td>0</td>\n",
       "      <td>0</td>\n",
       "      <td>94.50</td>\n",
       "      <td>0</td>\n",
       "      <td>Canceled</td>\n",
       "    </tr>\n",
       "  </tbody>\n",
       "</table>\n",
       "</div>"
      ],
      "text/plain": [
       "            no_of_adults  no_of_children  no_of_weekend_nights  \\\n",
       "Booking_ID                                                       \n",
       "INN00001               2               0                     1   \n",
       "INN00002               2               0                     2   \n",
       "INN00003               1               0                     2   \n",
       "INN00004               2               0                     0   \n",
       "INN00005               2               0                     1   \n",
       "\n",
       "            no_of_week_nights type_of_meal_plan  required_car_parking_space  \\\n",
       "Booking_ID                                                                    \n",
       "INN00001                    2       Meal Plan 1                           0   \n",
       "INN00002                    3      Not Selected                           0   \n",
       "INN00003                    1       Meal Plan 1                           0   \n",
       "INN00004                    2       Meal Plan 1                           0   \n",
       "INN00005                    1      Not Selected                           0   \n",
       "\n",
       "           room_type_reserved  lead_time  arrival_year  arrival_month  \\\n",
       "Booking_ID                                                              \n",
       "INN00001          Room_Type 1        224          2017             10   \n",
       "INN00002          Room_Type 1          5          2018             11   \n",
       "INN00003          Room_Type 1          1          2018              2   \n",
       "INN00004          Room_Type 1        211          2018              5   \n",
       "INN00005          Room_Type 1         48          2018              4   \n",
       "\n",
       "            arrival_date market_segment_type  repeated_guest  \\\n",
       "Booking_ID                                                     \n",
       "INN00001               2             Offline               0   \n",
       "INN00002               6              Online               0   \n",
       "INN00003              28              Online               0   \n",
       "INN00004              20              Online               0   \n",
       "INN00005              11              Online               0   \n",
       "\n",
       "            no_of_previous_cancellations  \\\n",
       "Booking_ID                                 \n",
       "INN00001                               0   \n",
       "INN00002                               0   \n",
       "INN00003                               0   \n",
       "INN00004                               0   \n",
       "INN00005                               0   \n",
       "\n",
       "            no_of_previous_bookings_not_canceled  avg_price_per_room  \\\n",
       "Booking_ID                                                             \n",
       "INN00001                                       0               65.00   \n",
       "INN00002                                       0              106.68   \n",
       "INN00003                                       0               60.00   \n",
       "INN00004                                       0              100.00   \n",
       "INN00005                                       0               94.50   \n",
       "\n",
       "            no_of_special_requests booking_status  \n",
       "Booking_ID                                         \n",
       "INN00001                         0   Not_Canceled  \n",
       "INN00002                         1   Not_Canceled  \n",
       "INN00003                         0       Canceled  \n",
       "INN00004                         0       Canceled  \n",
       "INN00005                         0       Canceled  "
      ]
     },
     "execution_count": 2,
     "metadata": {},
     "output_type": "execute_result"
    }
   ],
   "source": [
    "#Now I need to create the dataframe for the dataset.\n",
    "df = pd.read_csv('Hotel Reservations.csv', index_col=0)\n",
    "df.head()"
   ]
  },
  {
   "cell_type": "code",
   "execution_count": 3,
   "metadata": {},
   "outputs": [],
   "source": [
    "#Now to clean the data, first check to see if there's any NaN values\n",
    "#df.isna()\n",
    "#There are none, now looking at the dataset I need to see which columns\n",
    "    #have non-numeric values\n",
    "#df.info()\n",
    "#df.select_dtypes(\"object\").nunique().sort_values()\n",
    "#The columns that need adjusting are, those being type_of_meal_plan,\n",
    "    #room_type_reserved, market_segment_type, and booking_status\n",
    "#Now time to make a dummy frame\n",
    "dummy_frame = pd.get_dummies(df, drop_first=False, dtype=\"int64\")\n",
    "\n",
    "#dummy_frame.info()\n",
    "\n",
    "#dummy_frame.head()\n",
    "\n",
    "#Because booking_status_Canceled and booking_status_Not_Canceled\n",
    "    #tell the same information I will drop booking_status_Not_Canceled\n",
    "dummy_frame.drop('booking_status_Not_Canceled', axis=1, inplace=True)"
   ]
  },
  {
   "cell_type": "code",
   "execution_count": 4,
   "metadata": {},
   "outputs": [
    {
     "name": "stdout",
     "output_type": "stream",
     "text": [
      "Booking_ID\n",
      "INN00001    0\n",
      "INN00002    0\n",
      "INN00003    1\n",
      "INN00004    1\n",
      "INN00005    1\n",
      "Name: booking_status_Canceled, dtype: int64\n"
     ]
    },
    {
     "data": {
      "text/html": [
       "<div>\n",
       "<style scoped>\n",
       "    .dataframe tbody tr th:only-of-type {\n",
       "        vertical-align: middle;\n",
       "    }\n",
       "\n",
       "    .dataframe tbody tr th {\n",
       "        vertical-align: top;\n",
       "    }\n",
       "\n",
       "    .dataframe thead th {\n",
       "        text-align: right;\n",
       "    }\n",
       "</style>\n",
       "<table border=\"1\" class=\"dataframe\">\n",
       "  <thead>\n",
       "    <tr style=\"text-align: right;\">\n",
       "      <th></th>\n",
       "      <th>no_of_adults</th>\n",
       "      <th>no_of_children</th>\n",
       "      <th>no_of_weekend_nights</th>\n",
       "      <th>no_of_week_nights</th>\n",
       "      <th>required_car_parking_space</th>\n",
       "      <th>lead_time</th>\n",
       "      <th>arrival_year</th>\n",
       "      <th>arrival_month</th>\n",
       "      <th>arrival_date</th>\n",
       "      <th>repeated_guest</th>\n",
       "      <th>...</th>\n",
       "      <th>room_type_reserved_Room_Type 3</th>\n",
       "      <th>room_type_reserved_Room_Type 4</th>\n",
       "      <th>room_type_reserved_Room_Type 5</th>\n",
       "      <th>room_type_reserved_Room_Type 6</th>\n",
       "      <th>room_type_reserved_Room_Type 7</th>\n",
       "      <th>market_segment_type_Aviation</th>\n",
       "      <th>market_segment_type_Complementary</th>\n",
       "      <th>market_segment_type_Corporate</th>\n",
       "      <th>market_segment_type_Offline</th>\n",
       "      <th>market_segment_type_Online</th>\n",
       "    </tr>\n",
       "    <tr>\n",
       "      <th>Booking_ID</th>\n",
       "      <th></th>\n",
       "      <th></th>\n",
       "      <th></th>\n",
       "      <th></th>\n",
       "      <th></th>\n",
       "      <th></th>\n",
       "      <th></th>\n",
       "      <th></th>\n",
       "      <th></th>\n",
       "      <th></th>\n",
       "      <th></th>\n",
       "      <th></th>\n",
       "      <th></th>\n",
       "      <th></th>\n",
       "      <th></th>\n",
       "      <th></th>\n",
       "      <th></th>\n",
       "      <th></th>\n",
       "      <th></th>\n",
       "      <th></th>\n",
       "      <th></th>\n",
       "    </tr>\n",
       "  </thead>\n",
       "  <tbody>\n",
       "    <tr>\n",
       "      <th>INN00001</th>\n",
       "      <td>2</td>\n",
       "      <td>0</td>\n",
       "      <td>1</td>\n",
       "      <td>2</td>\n",
       "      <td>0</td>\n",
       "      <td>224</td>\n",
       "      <td>2017</td>\n",
       "      <td>10</td>\n",
       "      <td>2</td>\n",
       "      <td>0</td>\n",
       "      <td>...</td>\n",
       "      <td>0</td>\n",
       "      <td>0</td>\n",
       "      <td>0</td>\n",
       "      <td>0</td>\n",
       "      <td>0</td>\n",
       "      <td>0</td>\n",
       "      <td>0</td>\n",
       "      <td>0</td>\n",
       "      <td>1</td>\n",
       "      <td>0</td>\n",
       "    </tr>\n",
       "    <tr>\n",
       "      <th>INN00002</th>\n",
       "      <td>2</td>\n",
       "      <td>0</td>\n",
       "      <td>2</td>\n",
       "      <td>3</td>\n",
       "      <td>0</td>\n",
       "      <td>5</td>\n",
       "      <td>2018</td>\n",
       "      <td>11</td>\n",
       "      <td>6</td>\n",
       "      <td>0</td>\n",
       "      <td>...</td>\n",
       "      <td>0</td>\n",
       "      <td>0</td>\n",
       "      <td>0</td>\n",
       "      <td>0</td>\n",
       "      <td>0</td>\n",
       "      <td>0</td>\n",
       "      <td>0</td>\n",
       "      <td>0</td>\n",
       "      <td>0</td>\n",
       "      <td>1</td>\n",
       "    </tr>\n",
       "    <tr>\n",
       "      <th>INN00003</th>\n",
       "      <td>1</td>\n",
       "      <td>0</td>\n",
       "      <td>2</td>\n",
       "      <td>1</td>\n",
       "      <td>0</td>\n",
       "      <td>1</td>\n",
       "      <td>2018</td>\n",
       "      <td>2</td>\n",
       "      <td>28</td>\n",
       "      <td>0</td>\n",
       "      <td>...</td>\n",
       "      <td>0</td>\n",
       "      <td>0</td>\n",
       "      <td>0</td>\n",
       "      <td>0</td>\n",
       "      <td>0</td>\n",
       "      <td>0</td>\n",
       "      <td>0</td>\n",
       "      <td>0</td>\n",
       "      <td>0</td>\n",
       "      <td>1</td>\n",
       "    </tr>\n",
       "    <tr>\n",
       "      <th>INN00004</th>\n",
       "      <td>2</td>\n",
       "      <td>0</td>\n",
       "      <td>0</td>\n",
       "      <td>2</td>\n",
       "      <td>0</td>\n",
       "      <td>211</td>\n",
       "      <td>2018</td>\n",
       "      <td>5</td>\n",
       "      <td>20</td>\n",
       "      <td>0</td>\n",
       "      <td>...</td>\n",
       "      <td>0</td>\n",
       "      <td>0</td>\n",
       "      <td>0</td>\n",
       "      <td>0</td>\n",
       "      <td>0</td>\n",
       "      <td>0</td>\n",
       "      <td>0</td>\n",
       "      <td>0</td>\n",
       "      <td>0</td>\n",
       "      <td>1</td>\n",
       "    </tr>\n",
       "    <tr>\n",
       "      <th>INN00005</th>\n",
       "      <td>2</td>\n",
       "      <td>0</td>\n",
       "      <td>1</td>\n",
       "      <td>1</td>\n",
       "      <td>0</td>\n",
       "      <td>48</td>\n",
       "      <td>2018</td>\n",
       "      <td>4</td>\n",
       "      <td>11</td>\n",
       "      <td>0</td>\n",
       "      <td>...</td>\n",
       "      <td>0</td>\n",
       "      <td>0</td>\n",
       "      <td>0</td>\n",
       "      <td>0</td>\n",
       "      <td>0</td>\n",
       "      <td>0</td>\n",
       "      <td>0</td>\n",
       "      <td>0</td>\n",
       "      <td>0</td>\n",
       "      <td>1</td>\n",
       "    </tr>\n",
       "  </tbody>\n",
       "</table>\n",
       "<p>5 rows × 30 columns</p>\n",
       "</div>"
      ],
      "text/plain": [
       "            no_of_adults  no_of_children  no_of_weekend_nights  \\\n",
       "Booking_ID                                                       \n",
       "INN00001               2               0                     1   \n",
       "INN00002               2               0                     2   \n",
       "INN00003               1               0                     2   \n",
       "INN00004               2               0                     0   \n",
       "INN00005               2               0                     1   \n",
       "\n",
       "            no_of_week_nights  required_car_parking_space  lead_time  \\\n",
       "Booking_ID                                                             \n",
       "INN00001                    2                           0        224   \n",
       "INN00002                    3                           0          5   \n",
       "INN00003                    1                           0          1   \n",
       "INN00004                    2                           0        211   \n",
       "INN00005                    1                           0         48   \n",
       "\n",
       "            arrival_year  arrival_month  arrival_date  repeated_guest  ...  \\\n",
       "Booking_ID                                                             ...   \n",
       "INN00001            2017             10             2               0  ...   \n",
       "INN00002            2018             11             6               0  ...   \n",
       "INN00003            2018              2            28               0  ...   \n",
       "INN00004            2018              5            20               0  ...   \n",
       "INN00005            2018              4            11               0  ...   \n",
       "\n",
       "            room_type_reserved_Room_Type 3  room_type_reserved_Room_Type 4  \\\n",
       "Booking_ID                                                                   \n",
       "INN00001                                 0                               0   \n",
       "INN00002                                 0                               0   \n",
       "INN00003                                 0                               0   \n",
       "INN00004                                 0                               0   \n",
       "INN00005                                 0                               0   \n",
       "\n",
       "            room_type_reserved_Room_Type 5  room_type_reserved_Room_Type 6  \\\n",
       "Booking_ID                                                                   \n",
       "INN00001                                 0                               0   \n",
       "INN00002                                 0                               0   \n",
       "INN00003                                 0                               0   \n",
       "INN00004                                 0                               0   \n",
       "INN00005                                 0                               0   \n",
       "\n",
       "            room_type_reserved_Room_Type 7  market_segment_type_Aviation  \\\n",
       "Booking_ID                                                                 \n",
       "INN00001                                 0                             0   \n",
       "INN00002                                 0                             0   \n",
       "INN00003                                 0                             0   \n",
       "INN00004                                 0                             0   \n",
       "INN00005                                 0                             0   \n",
       "\n",
       "            market_segment_type_Complementary  market_segment_type_Corporate  \\\n",
       "Booking_ID                                                                     \n",
       "INN00001                                    0                              0   \n",
       "INN00002                                    0                              0   \n",
       "INN00003                                    0                              0   \n",
       "INN00004                                    0                              0   \n",
       "INN00005                                    0                              0   \n",
       "\n",
       "            market_segment_type_Offline  market_segment_type_Online  \n",
       "Booking_ID                                                           \n",
       "INN00001                              1                           0  \n",
       "INN00002                              0                           1  \n",
       "INN00003                              0                           1  \n",
       "INN00004                              0                           1  \n",
       "INN00005                              0                           1  \n",
       "\n",
       "[5 rows x 30 columns]"
      ]
     },
     "execution_count": 4,
     "metadata": {},
     "output_type": "execute_result"
    }
   ],
   "source": [
    "#Now to make X and y\n",
    "y = dummy_frame['booking_status_Canceled']\n",
    "X = dummy_frame.drop('booking_status_Canceled', axis=1)\n",
    "print(y.head())\n",
    "X.head()"
   ]
  },
  {
   "cell_type": "code",
   "execution_count": 5,
   "metadata": {},
   "outputs": [],
   "source": [
    "#Now to make the training and test sets\n",
    "X_train, X_test, y_train, y_test = train_test_split(X, y, test_size=0.25, \n",
    "                                                   train_size=0.75, \n",
    "                                                   random_state=42)"
   ]
  },
  {
   "cell_type": "code",
   "execution_count": 6,
   "metadata": {},
   "outputs": [
    {
     "data": {
      "text/plain": [
       "RandomForestClassifier(random_state=42)"
      ]
     },
     "execution_count": 6,
     "metadata": {},
     "output_type": "execute_result"
    }
   ],
   "source": [
    "random_forest = RandomForestClassifier(random_state=42)\n",
    "random_forest.fit(X_train, y_train)\n"
   ]
  },
  {
   "cell_type": "code",
   "execution_count": 7,
   "metadata": {},
   "outputs": [
    {
     "data": {
      "text/plain": [
       "0.9056125261881134"
      ]
     },
     "execution_count": 7,
     "metadata": {},
     "output_type": "execute_result"
    }
   ],
   "source": [
    "#random_forest.score(X_train, y_train)\n",
    "random_forest.score(X_test, y_test)\n",
    "#With this first try the model is far too overfitted"
   ]
  },
  {
   "cell_type": "code",
   "execution_count": 8,
   "metadata": {},
   "outputs": [
    {
     "data": {
      "image/png": "[encoded data removed]",
      "text/plain": [
       "<Figure size 576x576 with 1 Axes>"
      ]
     },
     "metadata": {
      "needs_background": "light"
     },
     "output_type": "display_data"
    }
   ],
   "source": [
    "def plot_feature_importances(model):\n",
    "    n_features = X_train.shape[1]\n",
    "    plt.figure(figsize=(8,8))\n",
    "    plt.barh(range(n_features), model.feature_importances_, align='center') \n",
    "    plt.yticks(np.arange(n_features), X_train.columns.values) \n",
    "    plt.xlabel('Feature importance')\n",
    "    plt.ylabel('Feature')\n",
    "    \n",
    "\n",
    "plot_feature_importances(random_forest)"
   ]
  },
  {
   "cell_type": "code",
   "execution_count": 9,
   "metadata": {},
   "outputs": [
    {
     "data": {
      "text/plain": [
       "BaggingClassifier(random_state=42)"
      ]
     },
     "execution_count": 9,
     "metadata": {},
     "output_type": "execute_result"
    }
   ],
   "source": [
    "bag_forest = BaggingClassifier(random_state=42)\n",
    "bag_forest.fit(X_train, y_train)"
   ]
  },
  {
   "cell_type": "code",
   "execution_count": 10,
   "metadata": {},
   "outputs": [
    {
     "data": {
      "text/plain": [
       "0.893703826221193"
      ]
     },
     "execution_count": 10,
     "metadata": {},
     "output_type": "execute_result"
    }
   ],
   "source": [
    "bag_forest.score(X_train, y_train)\n",
    "bag_forest.score(X_test, y_test)\n",
    "#Now to do confusion matrices for both"
   ]
  },
  {
   "cell_type": "code",
   "execution_count": 11,
   "metadata": {},
   "outputs": [
    {
     "data": {
      "text/plain": [
       "{'bootstrap': True,\n",
       " 'ccp_alpha': 0.0,\n",
       " 'class_weight': None,\n",
       " 'criterion': 'gini',\n",
       " 'max_depth': None,\n",
       " 'max_features': 'auto',\n",
       " 'max_leaf_nodes': None,\n",
       " 'max_samples': None,\n",
       " 'min_impurity_decrease': 0.0,\n",
       " 'min_impurity_split': None,\n",
       " 'min_samples_leaf': 1,\n",
       " 'min_samples_split': 2,\n",
       " 'min_weight_fraction_leaf': 0.0,\n",
       " 'n_estimators': 100,\n",
       " 'n_jobs': None,\n",
       " 'oob_score': False,\n",
       " 'random_state': 42,\n",
       " 'verbose': 0,\n",
       " 'warm_start': False}"
      ]
     },
     "execution_count": 11,
     "metadata": {},
     "output_type": "execute_result"
    }
   ],
   "source": [
    "random_forest.get_params()"
   ]
  },
  {
   "cell_type": "code",
   "execution_count": 12,
   "metadata": {},
   "outputs": [],
   "source": [
    "#Confusion Matrix for both the random forest and bagging classifier, first to\n",
    "    #the y-hat for both classifiers\n",
    "rf_test = random_forest.predict(X_test)\n",
    "bag_test = bag_forest.predict(X_test)"
   ]
  },
  {
   "cell_type": "code",
   "execution_count": 13,
   "metadata": {},
   "outputs": [
    {
     "name": "stdout",
     "output_type": "stream",
     "text": [
      "This is the random forest confusion matrix  [[5750  293]\n",
      " [ 563 2463]]\n",
      "This is the bagging classifier confusion matrix [[5675  368]\n",
      " [ 596 2430]]\n"
     ]
    }
   ],
   "source": [
    "rf_cnf = confusion_matrix(y_test, rf_test)\n",
    "print(\"This is the random forest confusion matrix \", rf_cnf)\n",
    "bag_cnf = confusion_matrix(y_test, bag_test)\n",
    "print(\"This is the bagging classifier confusion matrix\", bag_cnf)"
   ]
  },
  {
   "cell_type": "code",
   "execution_count": null,
   "metadata": {},
   "outputs": [],
   "source": []
  },
  {
   "cell_type": "code",
   "execution_count": 14,
   "metadata": {},
   "outputs": [
    {
     "name": "stdout",
     "output_type": "stream",
     "text": [
      "[0, 1, 4, 6, 9, 10, 11, 14, 15, 16, 17, 18, 19, 20, 21, 22, 23, 24, 25, 26, 27, 28, 29]\n"
     ]
    }
   ],
   "source": [
    "#Before I tune the hyper parameters, I want to remove any values that are\n",
    "    #making little impact. If they have a z-score less than -3 I'll get rid of them\n",
    "feat_imports = random_forest.feature_importances_\n",
    "#print(feat_imports)\n",
    "\n",
    "feat_mean = feat_imports.mean()\n",
    "#print(feat_mean)\n",
    "feat_std = feat_imports.std()\n",
    "#print(feat_std)\n",
    "index_counter = 0\n",
    "index_list = []\n",
    "for x in feat_imports:\n",
    "    #print((x-feat_mean)/feat_std)\n",
    "    if (x-feat_mean) < 0:\n",
    "        index_list.append(index_counter)\n",
    "    index_counter+=1\n",
    "print(index_list)"
   ]
  },
  {
   "cell_type": "code",
   "execution_count": 15,
   "metadata": {},
   "outputs": [
    {
     "name": "stdout",
     "output_type": "stream",
     "text": [
      "            no_of_weekend_nights  no_of_week_nights  lead_time  arrival_month  \\\n",
      "Booking_ID                                                                      \n",
      "INN00001                       1                  2        224             10   \n",
      "INN00002                       2                  3          5             11   \n",
      "INN00003                       2                  1          1              2   \n",
      "INN00004                       0                  2        211              5   \n",
      "INN00005                       1                  1         48              4   \n",
      "...                          ...                ...        ...            ...   \n",
      "INN36271                       2                  6         85              8   \n",
      "INN36272                       1                  3        228             10   \n",
      "INN36273                       2                  6        148              7   \n",
      "INN36274                       0                  3         63              4   \n",
      "INN36275                       1                  2        207             12   \n",
      "\n",
      "            arrival_date  avg_price_per_room  no_of_special_requests  \n",
      "Booking_ID                                                            \n",
      "INN00001               2               65.00                       0  \n",
      "INN00002               6              106.68                       1  \n",
      "INN00003              28               60.00                       0  \n",
      "INN00004              20              100.00                       0  \n",
      "INN00005              11               94.50                       0  \n",
      "...                  ...                 ...                     ...  \n",
      "INN36271               3              167.80                       1  \n",
      "INN36272              17               90.95                       2  \n",
      "INN36273               1               98.39                       2  \n",
      "INN36274              21               94.50                       0  \n",
      "INN36275              30              161.67                       0  \n",
      "\n",
      "[36275 rows x 7 columns]\n"
     ]
    }
   ],
   "source": [
    "X_important = X.drop(X.columns[index_list], axis=1)\n",
    "print(X_important)\n"
   ]
  },
  {
   "cell_type": "code",
   "execution_count": 16,
   "metadata": {},
   "outputs": [],
   "source": [
    "#New training based on this idea\n",
    "X_train_i, X_test_i, y_train_i, y_test_i = train_test_split(X_important, y, \n",
    "                                                            test_size=0.25, \n",
    "                                                            train_size=0.75, \n",
    "                                                            random_state=42)"
   ]
  },
  {
   "cell_type": "code",
   "execution_count": 17,
   "metadata": {},
   "outputs": [
    {
     "data": {
      "text/plain": [
       "RandomForestClassifier(random_state=42)"
      ]
     },
     "execution_count": 17,
     "metadata": {},
     "output_type": "execute_result"
    }
   ],
   "source": [
    "random_forest = RandomForestClassifier(random_state=42)\n",
    "random_forest.fit(X_train_i, y_train_i)"
   ]
  },
  {
   "cell_type": "code",
   "execution_count": 18,
   "metadata": {},
   "outputs": [
    {
     "data": {
      "text/plain": [
       "0.8895137280846841"
      ]
     },
     "execution_count": 18,
     "metadata": {},
     "output_type": "execute_result"
    }
   ],
   "source": [
    "random_forest.score(X_train_i, y_train_i)\n",
    "random_forest.score(X_test_i, y_test_i)\n",
    "#It seems the changes made didn't actually help the set"
   ]
  },
  {
   "cell_type": "code",
   "execution_count": 19,
   "metadata": {},
   "outputs": [
    {
     "data": {
      "text/plain": [
       "<AxesSubplot:xlabel='lead_time', ylabel='booking_status_Canceled'>"
      ]
     },
     "execution_count": 19,
     "metadata": {},
     "output_type": "execute_result"
    },
    {
     "data": {
      "image/png": "[encoded data removed]",
      "text/plain": [
       "<Figure size 1296x288 with 1 Axes>"
      ]
     },
     "metadata": {
      "needs_background": "light"
     },
     "output_type": "display_data"
    }
   ],
   "source": [
    "#Let's plot a scatter plot to observe how the lead_time affects booking\n",
    "dummy_frame.plot(kind = 'scatter', x='lead_time', y='booking_status_Canceled', \n",
    "                figsize=(18,4))\n",
    "#So it turns out that the lead time and the booking status are actually not\n",
    "    #that closely linked"
   ]
  },
  {
   "cell_type": "code",
   "execution_count": 20,
   "metadata": {},
   "outputs": [
    {
     "data": {
      "text/plain": [
       "{'bootstrap': True,\n",
       " 'ccp_alpha': 0.0,\n",
       " 'class_weight': None,\n",
       " 'criterion': 'gini',\n",
       " 'max_depth': None,\n",
       " 'max_features': 'auto',\n",
       " 'max_leaf_nodes': None,\n",
       " 'max_samples': None,\n",
       " 'min_impurity_decrease': 0.0,\n",
       " 'min_impurity_split': None,\n",
       " 'min_samples_leaf': 1,\n",
       " 'min_samples_split': 2,\n",
       " 'min_weight_fraction_leaf': 0.0,\n",
       " 'n_estimators': 100,\n",
       " 'n_jobs': None,\n",
       " 'oob_score': False,\n",
       " 'random_state': 42,\n",
       " 'verbose': 0,\n",
       " 'warm_start': False}"
      ]
     },
     "execution_count": 20,
     "metadata": {},
     "output_type": "execute_result"
    }
   ],
   "source": [
    "#Now for the tuning of the hyper parameters instead\n",
    "random_forest.get_params()"
   ]
  },
  {
   "cell_type": "code",
   "execution_count": 21,
   "metadata": {},
   "outputs": [
    {
     "data": {
      "text/plain": [
       "RandomForestClassifier(random_state=42)"
      ]
     },
     "execution_count": 21,
     "metadata": {},
     "output_type": "execute_result"
    }
   ],
   "source": [
    "random_forest.fit(X_train, y_train)"
   ]
  },
  {
   "cell_type": "code",
   "execution_count": 22,
   "metadata": {},
   "outputs": [],
   "source": [
    "#from sklearn.pipeline import Pipeline"
   ]
  },
  {
   "cell_type": "code",
   "execution_count": 23,
   "metadata": {},
   "outputs": [],
   "source": [
    "#Lets start changing up a bunch of these\n",
    "para_grid = [{\n",
    "    'criterion': ['gini', 'entropy'],\n",
    "    'min_samples_split': [6, 8, 10, 12],\n",
    "    'max_depth': [22, 24, 26],\n",
    "    'max_features': ['sqrt', 'log2'],\n",
    "}]\n",
    "grid_rf = GridSearchCV(estimator=random_forest, param_grid=para_grid, cv=3)"
   ]
  },
  {
   "cell_type": "code",
   "execution_count": null,
   "metadata": {},
   "outputs": [],
   "source": []
  },
  {
   "cell_type": "code",
   "execution_count": 123,
   "metadata": {},
   "outputs": [
    {
     "data": {
      "text/plain": [
       "GridSearchCV(cv=3, estimator=RandomForestClassifier(random_state=42),\n",
       "             param_grid=[{'criterion': ['gini', 'entropy'],\n",
       "                          'max_depth': [22, 24, 26],\n",
       "                          'max_features': ['sqrt', 'log2'],\n",
       "                          'min_samples_split': [6, 8, 10, 12]}])"
      ]
     },
     "execution_count": 123,
     "metadata": {},
     "output_type": "execute_result"
    }
   ],
   "source": [
    "grid_rf.fit(X_train, y_train)"
   ]
  },
  {
   "cell_type": "code",
   "execution_count": 124,
   "metadata": {},
   "outputs": [
    {
     "data": {
      "text/plain": [
       "0.9008710993494321"
      ]
     },
     "execution_count": 124,
     "metadata": {},
     "output_type": "execute_result"
    }
   ],
   "source": [
    "grid_rf.score(X_train, y_train)\n",
    "grid_rf.score(X_test, y_test)\n",
    "#No matter how I change the parameters I am unable to beat the base Random Forest"
   ]
  }
 ],
 "metadata": {
  "kernelspec": {
   "display_name": "Python (learn-env)",
   "language": "python",
   "name": "learn-env"
  },
  "language_info": {
   "codemirror_mode": {
    "name": "ipython",
    "version": 3
   },
   "file_extension": ".py",
   "mimetype": "text/x-python",
   "name": "python",
   "nbconvert_exporter": "python",
   "pygments_lexer": "ipython3",
   "version": "3.8.5"
  }
 },
 "nbformat": 4,
 "nbformat_minor": 4
}
