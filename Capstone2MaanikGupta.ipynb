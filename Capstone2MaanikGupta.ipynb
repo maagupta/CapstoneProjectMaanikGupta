{
 "cells": [
  {
   "cell_type": "code",
   "execution_count": 2,
   "metadata": {},
   "outputs": [],
   "source": [
    "#First I need to import everything\n",
    "import pandas as pd\n",
    "import numpy as np\n",
    "np.random.seed(0)\n",
    "import matplotlib.pyplot as plt\n",
    "from sklearn.model_selection import train_test_split\n",
    "from sklearn.metrics import accuracy_score, confusion_matrix, classification_report\n",
    "from sklearn.tree import DecisionTreeRegressor\n",
    "from sklearn.ensemble import BaggingRegressor, RandomForestRegressor"
   ]
  },
  {
   "cell_type": "code",
   "execution_count": 3,
   "metadata": {},
   "outputs": [
    {
     "data": {
      "text/html": [
       "<div>\n",
       "<style scoped>\n",
       "    .dataframe tbody tr th:only-of-type {\n",
       "        vertical-align: middle;\n",
       "    }\n",
       "\n",
       "    .dataframe tbody tr th {\n",
       "        vertical-align: top;\n",
       "    }\n",
       "\n",
       "    .dataframe thead th {\n",
       "        text-align: right;\n",
       "    }\n",
       "</style>\n",
       "<table border=\"1\" class=\"dataframe\">\n",
       "  <thead>\n",
       "    <tr style=\"text-align: right;\">\n",
       "      <th></th>\n",
       "      <th>no_of_adults</th>\n",
       "      <th>no_of_children</th>\n",
       "      <th>no_of_weekend_nights</th>\n",
       "      <th>no_of_week_nights</th>\n",
       "      <th>type_of_meal_plan</th>\n",
       "      <th>required_car_parking_space</th>\n",
       "      <th>room_type_reserved</th>\n",
       "      <th>lead_time</th>\n",
       "      <th>arrival_year</th>\n",
       "      <th>arrival_month</th>\n",
       "      <th>arrival_date</th>\n",
       "      <th>market_segment_type</th>\n",
       "      <th>repeated_guest</th>\n",
       "      <th>no_of_previous_cancellations</th>\n",
       "      <th>no_of_previous_bookings_not_canceled</th>\n",
       "      <th>avg_price_per_room</th>\n",
       "      <th>no_of_special_requests</th>\n",
       "      <th>booking_status</th>\n",
       "    </tr>\n",
       "    <tr>\n",
       "      <th>Booking_ID</th>\n",
       "      <th></th>\n",
       "      <th></th>\n",
       "      <th></th>\n",
       "      <th></th>\n",
       "      <th></th>\n",
       "      <th></th>\n",
       "      <th></th>\n",
       "      <th></th>\n",
       "      <th></th>\n",
       "      <th></th>\n",
       "      <th></th>\n",
       "      <th></th>\n",
       "      <th></th>\n",
       "      <th></th>\n",
       "      <th></th>\n",
       "      <th></th>\n",
       "      <th></th>\n",
       "      <th></th>\n",
       "    </tr>\n",
       "  </thead>\n",
       "  <tbody>\n",
       "    <tr>\n",
       "      <th>INN00001</th>\n",
       "      <td>2</td>\n",
       "      <td>0</td>\n",
       "      <td>1</td>\n",
       "      <td>2</td>\n",
       "      <td>Meal Plan 1</td>\n",
       "      <td>0</td>\n",
       "      <td>Room_Type 1</td>\n",
       "      <td>224</td>\n",
       "      <td>2017</td>\n",
       "      <td>10</td>\n",
       "      <td>2</td>\n",
       "      <td>Offline</td>\n",
       "      <td>0</td>\n",
       "      <td>0</td>\n",
       "      <td>0</td>\n",
       "      <td>65.00</td>\n",
       "      <td>0</td>\n",
       "      <td>Not_Canceled</td>\n",
       "    </tr>\n",
       "    <tr>\n",
       "      <th>INN00002</th>\n",
       "      <td>2</td>\n",
       "      <td>0</td>\n",
       "      <td>2</td>\n",
       "      <td>3</td>\n",
       "      <td>Not Selected</td>\n",
       "      <td>0</td>\n",
       "      <td>Room_Type 1</td>\n",
       "      <td>5</td>\n",
       "      <td>2018</td>\n",
       "      <td>11</td>\n",
       "      <td>6</td>\n",
       "      <td>Online</td>\n",
       "      <td>0</td>\n",
       "      <td>0</td>\n",
       "      <td>0</td>\n",
       "      <td>106.68</td>\n",
       "      <td>1</td>\n",
       "      <td>Not_Canceled</td>\n",
       "    </tr>\n",
       "    <tr>\n",
       "      <th>INN00003</th>\n",
       "      <td>1</td>\n",
       "      <td>0</td>\n",
       "      <td>2</td>\n",
       "      <td>1</td>\n",
       "      <td>Meal Plan 1</td>\n",
       "      <td>0</td>\n",
       "      <td>Room_Type 1</td>\n",
       "      <td>1</td>\n",
       "      <td>2018</td>\n",
       "      <td>2</td>\n",
       "      <td>28</td>\n",
       "      <td>Online</td>\n",
       "      <td>0</td>\n",
       "      <td>0</td>\n",
       "      <td>0</td>\n",
       "      <td>60.00</td>\n",
       "      <td>0</td>\n",
       "      <td>Canceled</td>\n",
       "    </tr>\n",
       "    <tr>\n",
       "      <th>INN00004</th>\n",
       "      <td>2</td>\n",
       "      <td>0</td>\n",
       "      <td>0</td>\n",
       "      <td>2</td>\n",
       "      <td>Meal Plan 1</td>\n",
       "      <td>0</td>\n",
       "      <td>Room_Type 1</td>\n",
       "      <td>211</td>\n",
       "      <td>2018</td>\n",
       "      <td>5</td>\n",
       "      <td>20</td>\n",
       "      <td>Online</td>\n",
       "      <td>0</td>\n",
       "      <td>0</td>\n",
       "      <td>0</td>\n",
       "      <td>100.00</td>\n",
       "      <td>0</td>\n",
       "      <td>Canceled</td>\n",
       "    </tr>\n",
       "    <tr>\n",
       "      <th>INN00005</th>\n",
       "      <td>2</td>\n",
       "      <td>0</td>\n",
       "      <td>1</td>\n",
       "      <td>1</td>\n",
       "      <td>Not Selected</td>\n",
       "      <td>0</td>\n",
       "      <td>Room_Type 1</td>\n",
       "      <td>48</td>\n",
       "      <td>2018</td>\n",
       "      <td>4</td>\n",
       "      <td>11</td>\n",
       "      <td>Online</td>\n",
       "      <td>0</td>\n",
       "      <td>0</td>\n",
       "      <td>0</td>\n",
       "      <td>94.50</td>\n",
       "      <td>0</td>\n",
       "      <td>Canceled</td>\n",
       "    </tr>\n",
       "  </tbody>\n",
       "</table>\n",
       "</div>"
      ],
      "text/plain": [
       "            no_of_adults  no_of_children  no_of_weekend_nights  \\\n",
       "Booking_ID                                                       \n",
       "INN00001               2               0                     1   \n",
       "INN00002               2               0                     2   \n",
       "INN00003               1               0                     2   \n",
       "INN00004               2               0                     0   \n",
       "INN00005               2               0                     1   \n",
       "\n",
       "            no_of_week_nights type_of_meal_plan  required_car_parking_space  \\\n",
       "Booking_ID                                                                    \n",
       "INN00001                    2       Meal Plan 1                           0   \n",
       "INN00002                    3      Not Selected                           0   \n",
       "INN00003                    1       Meal Plan 1                           0   \n",
       "INN00004                    2       Meal Plan 1                           0   \n",
       "INN00005                    1      Not Selected                           0   \n",
       "\n",
       "           room_type_reserved  lead_time  arrival_year  arrival_month  \\\n",
       "Booking_ID                                                              \n",
       "INN00001          Room_Type 1        224          2017             10   \n",
       "INN00002          Room_Type 1          5          2018             11   \n",
       "INN00003          Room_Type 1          1          2018              2   \n",
       "INN00004          Room_Type 1        211          2018              5   \n",
       "INN00005          Room_Type 1         48          2018              4   \n",
       "\n",
       "            arrival_date market_segment_type  repeated_guest  \\\n",
       "Booking_ID                                                     \n",
       "INN00001               2             Offline               0   \n",
       "INN00002               6              Online               0   \n",
       "INN00003              28              Online               0   \n",
       "INN00004              20              Online               0   \n",
       "INN00005              11              Online               0   \n",
       "\n",
       "            no_of_previous_cancellations  \\\n",
       "Booking_ID                                 \n",
       "INN00001                               0   \n",
       "INN00002                               0   \n",
       "INN00003                               0   \n",
       "INN00004                               0   \n",
       "INN00005                               0   \n",
       "\n",
       "            no_of_previous_bookings_not_canceled  avg_price_per_room  \\\n",
       "Booking_ID                                                             \n",
       "INN00001                                       0               65.00   \n",
       "INN00002                                       0              106.68   \n",
       "INN00003                                       0               60.00   \n",
       "INN00004                                       0              100.00   \n",
       "INN00005                                       0               94.50   \n",
       "\n",
       "            no_of_special_requests booking_status  \n",
       "Booking_ID                                         \n",
       "INN00001                         0   Not_Canceled  \n",
       "INN00002                         1   Not_Canceled  \n",
       "INN00003                         0       Canceled  \n",
       "INN00004                         0       Canceled  \n",
       "INN00005                         0       Canceled  "
      ]
     },
     "execution_count": 3,
     "metadata": {},
     "output_type": "execute_result"
    }
   ],
   "source": [
    "#Now I need to create the dataframe for the dataset.\n",
    "df = pd.read_csv('Hotel Reservations.csv', index_col=0)\n",
    "df.head()"
   ]
  },
  {
   "cell_type": "code",
   "execution_count": 4,
   "metadata": {},
   "outputs": [],
   "source": [
    "#Now to clean the data, first check to see if there's any NaN values\n",
    "#df.isna()\n",
    "#There are none, now looking at the dataset I need to see which columns\n",
    "    #have non-numeric values\n",
    "#df.info()\n",
    "#df.select_dtypes(\"object\").nunique().sort_values()\n",
    "#The columns that need adjusting are, those being type_of_meal_plan,\n",
    "    #room_type_reserved, market_segment_type, and booking_status\n",
    "#Now time to make a dummy frame\n",
    "dummy_frame = pd.get_dummies(df, drop_first=False, dtype=\"int64\")\n",
    "\n",
    "#dummy_frame.info()\n",
    "\n",
    "#dummy_frame.head()\n",
    "\n",
    "#Because booking_status_Canceled and booking_status_Not_Canceled\n",
    "    #tell the same information I will drop booking_status_Not_Canceled\n",
    "dummy_frame.drop('booking_status_Not_Canceled', axis=1, inplace=True)"
   ]
  },
  {
   "cell_type": "code",
   "execution_count": 5,
   "metadata": {},
   "outputs": [
    {
     "name": "stdout",
     "output_type": "stream",
     "text": [
      "Booking_ID\n",
      "INN00001    0\n",
      "INN00002    0\n",
      "INN00003    1\n",
      "INN00004    1\n",
      "INN00005    1\n",
      "Name: booking_status_Canceled, dtype: int64\n"
     ]
    },
    {
     "data": {
      "text/html": [
       "<div>\n",
       "<style scoped>\n",
       "    .dataframe tbody tr th:only-of-type {\n",
       "        vertical-align: middle;\n",
       "    }\n",
       "\n",
       "    .dataframe tbody tr th {\n",
       "        vertical-align: top;\n",
       "    }\n",
       "\n",
       "    .dataframe thead th {\n",
       "        text-align: right;\n",
       "    }\n",
       "</style>\n",
       "<table border=\"1\" class=\"dataframe\">\n",
       "  <thead>\n",
       "    <tr style=\"text-align: right;\">\n",
       "      <th></th>\n",
       "      <th>no_of_adults</th>\n",
       "      <th>no_of_children</th>\n",
       "      <th>no_of_weekend_nights</th>\n",
       "      <th>no_of_week_nights</th>\n",
       "      <th>required_car_parking_space</th>\n",
       "      <th>lead_time</th>\n",
       "      <th>arrival_year</th>\n",
       "      <th>arrival_month</th>\n",
       "      <th>arrival_date</th>\n",
       "      <th>repeated_guest</th>\n",
       "      <th>...</th>\n",
       "      <th>room_type_reserved_Room_Type 3</th>\n",
       "      <th>room_type_reserved_Room_Type 4</th>\n",
       "      <th>room_type_reserved_Room_Type 5</th>\n",
       "      <th>room_type_reserved_Room_Type 6</th>\n",
       "      <th>room_type_reserved_Room_Type 7</th>\n",
       "      <th>market_segment_type_Aviation</th>\n",
       "      <th>market_segment_type_Complementary</th>\n",
       "      <th>market_segment_type_Corporate</th>\n",
       "      <th>market_segment_type_Offline</th>\n",
       "      <th>market_segment_type_Online</th>\n",
       "    </tr>\n",
       "    <tr>\n",
       "      <th>Booking_ID</th>\n",
       "      <th></th>\n",
       "      <th></th>\n",
       "      <th></th>\n",
       "      <th></th>\n",
       "      <th></th>\n",
       "      <th></th>\n",
       "      <th></th>\n",
       "      <th></th>\n",
       "      <th></th>\n",
       "      <th></th>\n",
       "      <th></th>\n",
       "      <th></th>\n",
       "      <th></th>\n",
       "      <th></th>\n",
       "      <th></th>\n",
       "      <th></th>\n",
       "      <th></th>\n",
       "      <th></th>\n",
       "      <th></th>\n",
       "      <th></th>\n",
       "      <th></th>\n",
       "    </tr>\n",
       "  </thead>\n",
       "  <tbody>\n",
       "    <tr>\n",
       "      <th>INN00001</th>\n",
       "      <td>2</td>\n",
       "      <td>0</td>\n",
       "      <td>1</td>\n",
       "      <td>2</td>\n",
       "      <td>0</td>\n",
       "      <td>224</td>\n",
       "      <td>2017</td>\n",
       "      <td>10</td>\n",
       "      <td>2</td>\n",
       "      <td>0</td>\n",
       "      <td>...</td>\n",
       "      <td>0</td>\n",
       "      <td>0</td>\n",
       "      <td>0</td>\n",
       "      <td>0</td>\n",
       "      <td>0</td>\n",
       "      <td>0</td>\n",
       "      <td>0</td>\n",
       "      <td>0</td>\n",
       "      <td>1</td>\n",
       "      <td>0</td>\n",
       "    </tr>\n",
       "    <tr>\n",
       "      <th>INN00002</th>\n",
       "      <td>2</td>\n",
       "      <td>0</td>\n",
       "      <td>2</td>\n",
       "      <td>3</td>\n",
       "      <td>0</td>\n",
       "      <td>5</td>\n",
       "      <td>2018</td>\n",
       "      <td>11</td>\n",
       "      <td>6</td>\n",
       "      <td>0</td>\n",
       "      <td>...</td>\n",
       "      <td>0</td>\n",
       "      <td>0</td>\n",
       "      <td>0</td>\n",
       "      <td>0</td>\n",
       "      <td>0</td>\n",
       "      <td>0</td>\n",
       "      <td>0</td>\n",
       "      <td>0</td>\n",
       "      <td>0</td>\n",
       "      <td>1</td>\n",
       "    </tr>\n",
       "    <tr>\n",
       "      <th>INN00003</th>\n",
       "      <td>1</td>\n",
       "      <td>0</td>\n",
       "      <td>2</td>\n",
       "      <td>1</td>\n",
       "      <td>0</td>\n",
       "      <td>1</td>\n",
       "      <td>2018</td>\n",
       "      <td>2</td>\n",
       "      <td>28</td>\n",
       "      <td>0</td>\n",
       "      <td>...</td>\n",
       "      <td>0</td>\n",
       "      <td>0</td>\n",
       "      <td>0</td>\n",
       "      <td>0</td>\n",
       "      <td>0</td>\n",
       "      <td>0</td>\n",
       "      <td>0</td>\n",
       "      <td>0</td>\n",
       "      <td>0</td>\n",
       "      <td>1</td>\n",
       "    </tr>\n",
       "    <tr>\n",
       "      <th>INN00004</th>\n",
       "      <td>2</td>\n",
       "      <td>0</td>\n",
       "      <td>0</td>\n",
       "      <td>2</td>\n",
       "      <td>0</td>\n",
       "      <td>211</td>\n",
       "      <td>2018</td>\n",
       "      <td>5</td>\n",
       "      <td>20</td>\n",
       "      <td>0</td>\n",
       "      <td>...</td>\n",
       "      <td>0</td>\n",
       "      <td>0</td>\n",
       "      <td>0</td>\n",
       "      <td>0</td>\n",
       "      <td>0</td>\n",
       "      <td>0</td>\n",
       "      <td>0</td>\n",
       "      <td>0</td>\n",
       "      <td>0</td>\n",
       "      <td>1</td>\n",
       "    </tr>\n",
       "    <tr>\n",
       "      <th>INN00005</th>\n",
       "      <td>2</td>\n",
       "      <td>0</td>\n",
       "      <td>1</td>\n",
       "      <td>1</td>\n",
       "      <td>0</td>\n",
       "      <td>48</td>\n",
       "      <td>2018</td>\n",
       "      <td>4</td>\n",
       "      <td>11</td>\n",
       "      <td>0</td>\n",
       "      <td>...</td>\n",
       "      <td>0</td>\n",
       "      <td>0</td>\n",
       "      <td>0</td>\n",
       "      <td>0</td>\n",
       "      <td>0</td>\n",
       "      <td>0</td>\n",
       "      <td>0</td>\n",
       "      <td>0</td>\n",
       "      <td>0</td>\n",
       "      <td>1</td>\n",
       "    </tr>\n",
       "  </tbody>\n",
       "</table>\n",
       "<p>5 rows × 30 columns</p>\n",
       "</div>"
      ],
      "text/plain": [
       "            no_of_adults  no_of_children  no_of_weekend_nights  \\\n",
       "Booking_ID                                                       \n",
       "INN00001               2               0                     1   \n",
       "INN00002               2               0                     2   \n",
       "INN00003               1               0                     2   \n",
       "INN00004               2               0                     0   \n",
       "INN00005               2               0                     1   \n",
       "\n",
       "            no_of_week_nights  required_car_parking_space  lead_time  \\\n",
       "Booking_ID                                                             \n",
       "INN00001                    2                           0        224   \n",
       "INN00002                    3                           0          5   \n",
       "INN00003                    1                           0          1   \n",
       "INN00004                    2                           0        211   \n",
       "INN00005                    1                           0         48   \n",
       "\n",
       "            arrival_year  arrival_month  arrival_date  repeated_guest  ...  \\\n",
       "Booking_ID                                                             ...   \n",
       "INN00001            2017             10             2               0  ...   \n",
       "INN00002            2018             11             6               0  ...   \n",
       "INN00003            2018              2            28               0  ...   \n",
       "INN00004            2018              5            20               0  ...   \n",
       "INN00005            2018              4            11               0  ...   \n",
       "\n",
       "            room_type_reserved_Room_Type 3  room_type_reserved_Room_Type 4  \\\n",
       "Booking_ID                                                                   \n",
       "INN00001                                 0                               0   \n",
       "INN00002                                 0                               0   \n",
       "INN00003                                 0                               0   \n",
       "INN00004                                 0                               0   \n",
       "INN00005                                 0                               0   \n",
       "\n",
       "            room_type_reserved_Room_Type 5  room_type_reserved_Room_Type 6  \\\n",
       "Booking_ID                                                                   \n",
       "INN00001                                 0                               0   \n",
       "INN00002                                 0                               0   \n",
       "INN00003                                 0                               0   \n",
       "INN00004                                 0                               0   \n",
       "INN00005                                 0                               0   \n",
       "\n",
       "            room_type_reserved_Room_Type 7  market_segment_type_Aviation  \\\n",
       "Booking_ID                                                                 \n",
       "INN00001                                 0                             0   \n",
       "INN00002                                 0                             0   \n",
       "INN00003                                 0                             0   \n",
       "INN00004                                 0                             0   \n",
       "INN00005                                 0                             0   \n",
       "\n",
       "            market_segment_type_Complementary  market_segment_type_Corporate  \\\n",
       "Booking_ID                                                                     \n",
       "INN00001                                    0                              0   \n",
       "INN00002                                    0                              0   \n",
       "INN00003                                    0                              0   \n",
       "INN00004                                    0                              0   \n",
       "INN00005                                    0                              0   \n",
       "\n",
       "            market_segment_type_Offline  market_segment_type_Online  \n",
       "Booking_ID                                                           \n",
       "INN00001                              1                           0  \n",
       "INN00002                              0                           1  \n",
       "INN00003                              0                           1  \n",
       "INN00004                              0                           1  \n",
       "INN00005                              0                           1  \n",
       "\n",
       "[5 rows x 30 columns]"
      ]
     },
     "execution_count": 5,
     "metadata": {},
     "output_type": "execute_result"
    }
   ],
   "source": [
    "#Now to make X and y\n",
    "y = dummy_frame['booking_status_Canceled']\n",
    "X = dummy_frame.drop('booking_status_Canceled', axis=1)\n",
    "print(y.head())\n",
    "X.head()"
   ]
  },
  {
   "cell_type": "code",
   "execution_count": 6,
   "metadata": {},
   "outputs": [],
   "source": [
    "#Now to make the training and test sets\n",
    "X_train, X_test, y_train, y_test = train_test_split(X, y, test_size=0.25, \n",
    "                                                   train_size=0.75, \n",
    "                                                   random_state=42)"
   ]
  },
  {
   "cell_type": "code",
   "execution_count": 7,
   "metadata": {},
   "outputs": [
    {
     "data": {
      "text/plain": [
       "RandomForestRegressor()"
      ]
     },
     "execution_count": 7,
     "metadata": {},
     "output_type": "execute_result"
    }
   ],
   "source": [
    "random_forest = RandomForestRegressor()\n",
    "random_forest.fit(X_train, y_train)\n"
   ]
  },
  {
   "cell_type": "code",
   "execution_count": 8,
   "metadata": {},
   "outputs": [
    {
     "data": {
      "text/plain": [
       "0.6749107426441641"
      ]
     },
     "execution_count": 8,
     "metadata": {},
     "output_type": "execute_result"
    }
   ],
   "source": [
    "random_forest.score(X_train, y_train)\n",
    "random_forest.score(X_test, y_test)\n",
    "#With this first try the model is far too overfitted"
   ]
  },
  {
   "cell_type": "code",
   "execution_count": 9,
   "metadata": {},
   "outputs": [
    {
     "data": {
      "image/png": "[encoded data removed]",
      "text/plain": [
       "<Figure size 576x576 with 1 Axes>"
      ]
     },
     "metadata": {
      "needs_background": "light"
     },
     "output_type": "display_data"
    }
   ],
   "source": [
    "def plot_feature_importances(model):\n",
    "    n_features = X_train.shape[1]\n",
    "    plt.figure(figsize=(8,8))\n",
    "    plt.barh(range(n_features), model.feature_importances_, align='center') \n",
    "    plt.yticks(np.arange(n_features), X_train.columns.values) \n",
    "    plt.xlabel('Feature importance')\n",
    "    plt.ylabel('Feature')\n",
    "    \n",
    "\n",
    "plot_feature_importances(random_forest)"
   ]
  },
  {
   "cell_type": "code",
   "execution_count": 10,
   "metadata": {},
   "outputs": [
    {
     "data": {
      "text/plain": [
       "BaggingRegressor()"
      ]
     },
     "execution_count": 10,
     "metadata": {},
     "output_type": "execute_result"
    }
   ],
   "source": [
    "bag_forest = BaggingRegressor()\n",
    "bag_forest.fit(X_train, y_train)"
   ]
  },
  {
   "cell_type": "code",
   "execution_count": 12,
   "metadata": {},
   "outputs": [
    {
     "data": {
      "text/plain": [
       "0.6466277580019111"
      ]
     },
     "execution_count": 12,
     "metadata": {},
     "output_type": "execute_result"
    }
   ],
   "source": [
    "bag_forest.score(X_train, y_train)\n",
    "bag_forest.score(X_test, y_test)"
   ]
  },
  {
   "cell_type": "code",
   "execution_count": 15,
   "metadata": {},
   "outputs": [
    {
     "data": {
      "text/plain": [
       "0.508000573548198"
      ]
     },
     "execution_count": 15,
     "metadata": {},
     "output_type": "execute_result"
    }
   ],
   "source": [
    "#Since both the forests at the default perform poorly with the test data\n",
    "    #both need tuning.\n",
    "#I will start with adjusting the max_depth to 6 and doubling the number of\n",
    "    #trees.\n",
    "random_forest2 = RandomForestRegressor(n_estimators=200, max_depth=6)\n",
    "random_forest2.fit(X_train, y_train)\n",
    "random_forest2.score(X_train, y_train)\n",
    "random_forest2.score(X_test, y_test)\n",
    "\n",
    "#This performs far, far worse than before\n"
   ]
  },
  {
   "cell_type": "code",
   "execution_count": 17,
   "metadata": {},
   "outputs": [
    {
     "data": {
      "text/plain": [
       "0.6198303880300262"
      ]
     },
     "execution_count": 17,
     "metadata": {},
     "output_type": "execute_result"
    }
   ],
   "source": [
    "random_forest3 = RandomForestRegressor(n_estimators=200, max_depth=10)\n",
    "random_forest3.fit(X_train, y_train)\n",
    "random_forest3.score(X_train, y_train)\n",
    "random_forest3.score(X_test, y_test)\n",
    "\n",
    "#So the depth still isn't enough"
   ]
  },
  {
   "cell_type": "code",
   "execution_count": 20,
   "metadata": {},
   "outputs": [
    {
     "data": {
      "text/plain": [
       "[DecisionTreeRegressor(max_features='auto', random_state=209652396),\n",
       " DecisionTreeRegressor(max_features='auto', random_state=398764591),\n",
       " DecisionTreeRegressor(max_features='auto', random_state=924231285),\n",
       " DecisionTreeRegressor(max_features='auto', random_state=1478610112),\n",
       " DecisionTreeRegressor(max_features='auto', random_state=441365315),\n",
       " DecisionTreeRegressor(max_features='auto', random_state=1537364731),\n",
       " DecisionTreeRegressor(max_features='auto', random_state=192771779),\n",
       " DecisionTreeRegressor(max_features='auto', random_state=1491434855),\n",
       " DecisionTreeRegressor(max_features='auto', random_state=1819583497),\n",
       " DecisionTreeRegressor(max_features='auto', random_state=530702035),\n",
       " DecisionTreeRegressor(max_features='auto', random_state=626610453),\n",
       " DecisionTreeRegressor(max_features='auto', random_state=1650906866),\n",
       " DecisionTreeRegressor(max_features='auto', random_state=1879422756),\n",
       " DecisionTreeRegressor(max_features='auto', random_state=1277901399),\n",
       " DecisionTreeRegressor(max_features='auto', random_state=1682652230),\n",
       " DecisionTreeRegressor(max_features='auto', random_state=243580376),\n",
       " DecisionTreeRegressor(max_features='auto', random_state=1991416408),\n",
       " DecisionTreeRegressor(max_features='auto', random_state=1171049868),\n",
       " DecisionTreeRegressor(max_features='auto', random_state=1646868794),\n",
       " DecisionTreeRegressor(max_features='auto', random_state=2051556033),\n",
       " DecisionTreeRegressor(max_features='auto', random_state=1252949478),\n",
       " DecisionTreeRegressor(max_features='auto', random_state=1340754471),\n",
       " DecisionTreeRegressor(max_features='auto', random_state=124102743),\n",
       " DecisionTreeRegressor(max_features='auto', random_state=2061486254),\n",
       " DecisionTreeRegressor(max_features='auto', random_state=292249176),\n",
       " DecisionTreeRegressor(max_features='auto', random_state=1686997841),\n",
       " DecisionTreeRegressor(max_features='auto', random_state=1827923621),\n",
       " DecisionTreeRegressor(max_features='auto', random_state=1443447321),\n",
       " DecisionTreeRegressor(max_features='auto', random_state=305097549),\n",
       " DecisionTreeRegressor(max_features='auto', random_state=1449105480),\n",
       " DecisionTreeRegressor(max_features='auto', random_state=374217481),\n",
       " DecisionTreeRegressor(max_features='auto', random_state=636393364),\n",
       " DecisionTreeRegressor(max_features='auto', random_state=86837363),\n",
       " DecisionTreeRegressor(max_features='auto', random_state=1581585360),\n",
       " DecisionTreeRegressor(max_features='auto', random_state=1428591347),\n",
       " DecisionTreeRegressor(max_features='auto', random_state=1963466437),\n",
       " DecisionTreeRegressor(max_features='auto', random_state=1194674174),\n",
       " DecisionTreeRegressor(max_features='auto', random_state=602801999),\n",
       " DecisionTreeRegressor(max_features='auto', random_state=1589190063),\n",
       " DecisionTreeRegressor(max_features='auto', random_state=1589512640),\n",
       " DecisionTreeRegressor(max_features='auto', random_state=2055650130),\n",
       " DecisionTreeRegressor(max_features='auto', random_state=2034131043),\n",
       " DecisionTreeRegressor(max_features='auto', random_state=1284876248),\n",
       " DecisionTreeRegressor(max_features='auto', random_state=1292401841),\n",
       " DecisionTreeRegressor(max_features='auto', random_state=1982038771),\n",
       " DecisionTreeRegressor(max_features='auto', random_state=87950109),\n",
       " DecisionTreeRegressor(max_features='auto', random_state=1204863635),\n",
       " DecisionTreeRegressor(max_features='auto', random_state=768281747),\n",
       " DecisionTreeRegressor(max_features='auto', random_state=507984782),\n",
       " DecisionTreeRegressor(max_features='auto', random_state=947610023),\n",
       " DecisionTreeRegressor(max_features='auto', random_state=600956192),\n",
       " DecisionTreeRegressor(max_features='auto', random_state=352272321),\n",
       " DecisionTreeRegressor(max_features='auto', random_state=615697673),\n",
       " DecisionTreeRegressor(max_features='auto', random_state=160516793),\n",
       " DecisionTreeRegressor(max_features='auto', random_state=1909838463),\n",
       " DecisionTreeRegressor(max_features='auto', random_state=1110745632),\n",
       " DecisionTreeRegressor(max_features='auto', random_state=93837855),\n",
       " DecisionTreeRegressor(max_features='auto', random_state=454869706),\n",
       " DecisionTreeRegressor(max_features='auto', random_state=1780959476),\n",
       " DecisionTreeRegressor(max_features='auto', random_state=2034098327),\n",
       " DecisionTreeRegressor(max_features='auto', random_state=1136257699),\n",
       " DecisionTreeRegressor(max_features='auto', random_state=800291326),\n",
       " DecisionTreeRegressor(max_features='auto', random_state=1177824715),\n",
       " DecisionTreeRegressor(max_features='auto', random_state=1017555826),\n",
       " DecisionTreeRegressor(max_features='auto', random_state=1959150775),\n",
       " DecisionTreeRegressor(max_features='auto', random_state=930076700),\n",
       " DecisionTreeRegressor(max_features='auto', random_state=293921570),\n",
       " DecisionTreeRegressor(max_features='auto', random_state=580757632),\n",
       " DecisionTreeRegressor(max_features='auto', random_state=80701568),\n",
       " DecisionTreeRegressor(max_features='auto', random_state=1392175012),\n",
       " DecisionTreeRegressor(max_features='auto', random_state=505240629),\n",
       " DecisionTreeRegressor(max_features='auto', random_state=642848645),\n",
       " DecisionTreeRegressor(max_features='auto', random_state=481447462),\n",
       " DecisionTreeRegressor(max_features='auto', random_state=954863080),\n",
       " DecisionTreeRegressor(max_features='auto', random_state=502227700),\n",
       " DecisionTreeRegressor(max_features='auto', random_state=1659957521),\n",
       " DecisionTreeRegressor(max_features='auto', random_state=1905883471),\n",
       " DecisionTreeRegressor(max_features='auto', random_state=1729147268),\n",
       " DecisionTreeRegressor(max_features='auto', random_state=780912233),\n",
       " DecisionTreeRegressor(max_features='auto', random_state=1932520490),\n",
       " DecisionTreeRegressor(max_features='auto', random_state=1544074682),\n",
       " DecisionTreeRegressor(max_features='auto', random_state=485603871),\n",
       " DecisionTreeRegressor(max_features='auto', random_state=1877037944),\n",
       " DecisionTreeRegressor(max_features='auto', random_state=1728073985),\n",
       " DecisionTreeRegressor(max_features='auto', random_state=848819521),\n",
       " DecisionTreeRegressor(max_features='auto', random_state=426405863),\n",
       " DecisionTreeRegressor(max_features='auto', random_state=258666409),\n",
       " DecisionTreeRegressor(max_features='auto', random_state=2017814585),\n",
       " DecisionTreeRegressor(max_features='auto', random_state=716257571),\n",
       " DecisionTreeRegressor(max_features='auto', random_state=657731430),\n",
       " DecisionTreeRegressor(max_features='auto', random_state=732884087),\n",
       " DecisionTreeRegressor(max_features='auto', random_state=734051083),\n",
       " DecisionTreeRegressor(max_features='auto', random_state=903586222),\n",
       " DecisionTreeRegressor(max_features='auto', random_state=1538251858),\n",
       " DecisionTreeRegressor(max_features='auto', random_state=553734235),\n",
       " DecisionTreeRegressor(max_features='auto', random_state=1076688768),\n",
       " DecisionTreeRegressor(max_features='auto', random_state=1354754446),\n",
       " DecisionTreeRegressor(max_features='auto', random_state=463129187),\n",
       " DecisionTreeRegressor(max_features='auto', random_state=1562125877),\n",
       " DecisionTreeRegressor(max_features='auto', random_state=1396067212)]"
      ]
     },
     "execution_count": 20,
     "metadata": {},
     "output_type": "execute_result"
    }
   ],
   "source": [
    "#Let's actually take a look at the features of the random forest\n",
    "random_forest.estimators_"
   ]
  },
  {
   "cell_type": "code",
   "execution_count": 21,
   "metadata": {},
   "outputs": [],
   "source": [
    "#Let's just try the random_forest with a lot more trees\n",
    "random_forest4 = RandomForestRegressor(n_estimators=1000)"
   ]
  },
  {
   "cell_type": "code",
   "execution_count": 22,
   "metadata": {},
   "outputs": [
    {
     "data": {
      "text/plain": [
       "RandomForestRegressor(n_estimators=1000)"
      ]
     },
     "execution_count": 22,
     "metadata": {},
     "output_type": "execute_result"
    }
   ],
   "source": [
    "random_forest4.fit(X_train, y_train)"
   ]
  },
  {
   "cell_type": "code",
   "execution_count": 23,
   "metadata": {},
   "outputs": [
    {
     "data": {
      "text/plain": [
       "0.9405861069677598"
      ]
     },
     "execution_count": 23,
     "metadata": {},
     "output_type": "execute_result"
    }
   ],
   "source": [
    "random_forest4.score(X_train, y_train)"
   ]
  },
  {
   "cell_type": "code",
   "execution_count": 24,
   "metadata": {},
   "outputs": [
    {
     "data": {
      "text/plain": [
       "0.6776531571189247"
      ]
     },
     "execution_count": 24,
     "metadata": {},
     "output_type": "execute_result"
    }
   ],
   "source": [
    "random_forest4.score(X_test, y_test)\n",
    "#That did nothing"
   ]
  },
  {
   "cell_type": "code",
   "execution_count": null,
   "metadata": {},
   "outputs": [],
   "source": []
  }
 ],
 "metadata": {
  "kernelspec": {
   "display_name": "Python (learn-env)",
   "language": "python",
   "name": "learn-env"
  },
  "language_info": {
   "codemirror_mode": {
    "name": "ipython",
    "version": 3
   },
   "file_extension": ".py",
   "mimetype": "text/x-python",
   "name": "python",
   "nbconvert_exporter": "python",
   "pygments_lexer": "ipython3",
   "version": "3.8.5"
  }
 },
 "nbformat": 4,
 "nbformat_minor": 4
}
